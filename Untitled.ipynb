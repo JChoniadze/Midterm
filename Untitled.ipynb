{
 "cells": [
  {
   "cell_type": "code",
   "execution_count": 1,
   "id": "85bc0663-17c4-44e0-9a78-33214922f41c",
   "metadata": {},
   "outputs": [
    {
     "name": "stdout",
     "output_type": "stream",
     "text": [
      "SHA-256: 50dddf8b540a8d16693d741462e1f0431fe43acd4f9c2d006edf7d2e828f7fa4\n",
      "HMAC: 77ff6d313b1afbac12ceb402d89d5f5dac37faebe581527cff8dc04eb3193df2\n",
      "Modified HMAC: 9ddf466f5376c2e41317cdf2400e6c1619ef413b6010aa8b1ee2d73b86cc4dfe\n"
     ]
    }
   ],
   "source": [
    "import hashlib, hmac\n",
    "\n",
    "with open(\"data.txt\", \"rb\") as f:\n",
    "    data = f.read()\n",
    "\n",
    "print(\"SHA-256:\", hashlib.sha256(data).hexdigest())\n",
    "\n",
    "key = b\"secretkey123\"\n",
    "print(\"HMAC:\", hmac.new(key, data, hashlib.sha256).hexdigest())\n",
    "\n",
    "modified = b\"Never trust, always verifY.\"\n",
    "print(\"Modified HMAC:\", hmac.new(key, modified, hashlib.sha256).hexdigest())\n"
   ]
  },
  {
   "cell_type": "code",
   "execution_count": 2,
   "id": "27379c11-ec68-4bf2-8c2f-a6fe665ba139",
   "metadata": {},
   "outputs": [
    {
     "name": "stdout",
     "output_type": "stream",
     "text": [
      "C:\\Users\\JONI\n"
     ]
    }
   ],
   "source": [
    "import os\n",
    "print(os.getcwd())  # Should print C:\\Users\\JONI\n"
   ]
  },
  {
   "cell_type": "code",
   "execution_count": 3,
   "id": "60c8b811-56e1-4502-b1bf-55052dbacafd",
   "metadata": {},
   "outputs": [],
   "source": [
    "with open(\"data.txt\", \"rb\") as f:\n",
    "    data = f.read()\n"
   ]
  },
  {
   "cell_type": "code",
   "execution_count": 4,
   "id": "934d9224-1bcf-48a2-9017-ec5c93525396",
   "metadata": {},
   "outputs": [
    {
     "name": "stdout",
     "output_type": "stream",
     "text": [
      "✅ File 'data.txt' has been created.\n"
     ]
    }
   ],
   "source": [
    "# Create data.txt with the original message\n",
    "with open(\"data.txt\", \"w\") as f:\n",
    "    f.write(\"Never trust, always verify.\")\n",
    "\n",
    "print(\"✅ File 'data.txt' has been created.\")\n"
   ]
  },
  {
   "cell_type": "code",
   "execution_count": 5,
   "id": "d00003d7-a0f3-4d54-a748-21d44f4091e1",
   "metadata": {},
   "outputs": [
    {
     "name": "stdout",
     "output_type": "stream",
     "text": [
      "SHA-256: 50dddf8b540a8d16693d741462e1f0431fe43acd4f9c2d006edf7d2e828f7fa4\n",
      "HMAC: 77ff6d313b1afbac12ceb402d89d5f5dac37faebe581527cff8dc04eb3193df2\n",
      "Modified HMAC: 9ddf466f5376c2e41317cdf2400e6c1619ef413b6010aa8b1ee2d73b86cc4dfe\n"
     ]
    }
   ],
   "source": [
    "import hashlib, hmac\n",
    "\n",
    "# Read the created file\n",
    "with open(\"data.txt\", \"rb\") as f:\n",
    "    data = f.read()\n",
    "\n",
    "# SHA-256 hash\n",
    "print(\"SHA-256:\", hashlib.sha256(data).hexdigest())\n",
    "\n",
    "# HMAC\n",
    "key = b\"secretkey123\"\n",
    "print(\"HMAC:\", hmac.new(key, data, hashlib.sha256).hexdigest())\n",
    "\n",
    "# Create and test modified message\n",
    "modified = b\"Never trust, always verifY.\"\n",
    "print(\"Modified HMAC:\", hmac.new(key, modified, hashlib.sha256).hexdigest())\n"
   ]
  },
  {
   "cell_type": "code",
   "execution_count": 6,
   "id": "087ad7f0-e5fd-4a11-8e4c-c72030a5c431",
   "metadata": {},
   "outputs": [
    {
     "name": "stdout",
     "output_type": "stream",
     "text": [
      "HMAC: 77ff6d313b1afbac12ceb402d89d5f5dac37faebe581527cff8dc04eb3193df2\n"
     ]
    }
   ],
   "source": [
    "import hmac\n",
    "\n",
    "# Define the key\n",
    "key = b\"secretkey123\"\n",
    "\n",
    "# Generate HMAC for original data\n",
    "hmac_digest = hmac.new(key, data, hashlib.sha256).hexdigest()\n",
    "print(\"HMAC:\", hmac_digest)\n"
   ]
  },
  {
   "cell_type": "code",
   "execution_count": 7,
   "id": "8fedec29-9552-4960-9e80-2a7239a41712",
   "metadata": {},
   "outputs": [
    {
     "name": "stdout",
     "output_type": "stream",
     "text": [
      "Modified HMAC: 9ddf466f5376c2e41317cdf2400e6c1619ef413b6010aa8b1ee2d73b86cc4dfe\n",
      "HMACs do NOT match — file integrity is broken!\n"
     ]
    }
   ],
   "source": [
    "# Simulate a changed message\n",
    "modified_data = b\"Never trust, always verifY.\"\n",
    "\n",
    "# Generate HMAC for the modified message\n",
    "hmac_modified = hmac.new(key, modified_data, hashlib.sha256).hexdigest()\n",
    "print(\"Modified HMAC:\", hmac_modified)\n",
    "\n",
    "# Compare original and modified HMACs\n",
    "if hmac_digest == hmac_modified:\n",
    "    print(\"HMACs match — no change detected.\")\n",
    "else:\n",
    "    print(\"HMACs do NOT match — file integrity is broken!\")\n"
   ]
  },
  {
   "cell_type": "code",
   "execution_count": 8,
   "id": "3ac61b4c-95b7-420a-a265-5e0a3e10a086",
   "metadata": {},
   "outputs": [
    {
     "name": "stdout",
     "output_type": "stream",
     "text": [
      "Alice's shared key: 168885fbb49443cf320596d7d554cf4cadf893e52388fd183f4c19b04ce85eb72a5453d3df60181a30bb1caaba5b719d97e8f53592fa8557ae496ee42aa2a2607ff9fa1209caaa62a0b10772d867fc63f9b919019a13a9663624a26d29752f3456fc736fdb02a3209d339387c68df2e20f48919546677d56f74ab5616c38b1623b3a155be8669c1246c62fb69037494153c0e86a3aaf8a66f1c133724571cd707937ed229b004acb161c7016c47f8e998fd50ab49434d60a67054d8180e29fce6f70cb9d341844b9d95048e63a24cbe94cbd1c18ab4816ad722116ae8eb31b3fa0a0b56ce23fb16b8d90bcc79df407d4d63e83033b6a5dc5a5f4fbaf5d5b43b0\n",
      "Bob's shared key:   168885fbb49443cf320596d7d554cf4cadf893e52388fd183f4c19b04ce85eb72a5453d3df60181a30bb1caaba5b719d97e8f53592fa8557ae496ee42aa2a2607ff9fa1209caaa62a0b10772d867fc63f9b919019a13a9663624a26d29752f3456fc736fdb02a3209d339387c68df2e20f48919546677d56f74ab5616c38b1623b3a155be8669c1246c62fb69037494153c0e86a3aaf8a66f1c133724571cd707937ed229b004acb161c7016c47f8e998fd50ab49434d60a67054d8180e29fce6f70cb9d341844b9d95048e63a24cbe94cbd1c18ab4816ad722116ae8eb31b3fa0a0b56ce23fb16b8d90bcc79df407d4d63e83033b6a5dc5a5f4fbaf5d5b43b0\n",
      "Shared keys match!\n"
     ]
    }
   ],
   "source": [
    "from cryptography.hazmat.primitives.asymmetric import dh\n",
    "\n",
    "# Step 1: Generate DH parameters\n",
    "parameters = dh.generate_parameters(generator=2, key_size=2048)\n",
    "\n",
    "# Step 2: Alice generates private/public key\n",
    "alice_private_key = parameters.generate_private_key()\n",
    "alice_public_key = alice_private_key.public_key()\n",
    "\n",
    "# Step 3: Bob generates private/public key\n",
    "bob_private_key = parameters.generate_private_key()\n",
    "bob_public_key = bob_private_key.public_key()\n",
    "\n",
    "# Step 4: Exchange public keys and compute shared secret\n",
    "alice_shared_key = alice_private_key.exchange(bob_public_key)\n",
    "bob_shared_key = bob_private_key.exchange(alice_public_key)\n",
    "\n",
    "# Step 5: Print and compare shared keys\n",
    "print(\"Alice's shared key:\", alice_shared_key.hex())\n",
    "print(\"Bob's shared key:  \", bob_shared_key.hex())\n",
    "\n",
    "# Step 6: Validate if they match\n",
    "assert alice_shared_key == bob_shared_key\n",
    "print(\"Shared keys match!\")\n"
   ]
  },
  {
   "cell_type": "code",
   "execution_count": null,
   "id": "342285da-82e8-413e-8603-2900f13529d6",
   "metadata": {},
   "outputs": [],
   "source": []
  }
 ],
 "metadata": {
  "kernelspec": {
   "display_name": "Python [conda env:base] *",
   "language": "python",
   "name": "conda-base-py"
  },
  "language_info": {
   "codemirror_mode": {
    "name": "ipython",
    "version": 3
   },
   "file_extension": ".py",
   "mimetype": "text/x-python",
   "name": "python",
   "nbconvert_exporter": "python",
   "pygments_lexer": "ipython3",
   "version": "3.12.7"
  }
 },
 "nbformat": 4,
 "nbformat_minor": 5
}
